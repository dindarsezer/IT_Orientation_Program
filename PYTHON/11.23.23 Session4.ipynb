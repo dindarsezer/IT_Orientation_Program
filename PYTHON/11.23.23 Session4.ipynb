{
  "nbformat": 4,
  "nbformat_minor": 0,
  "metadata": {
    "colab": {
      "provenance": []
    },
    "kernelspec": {
      "name": "python3",
      "display_name": "Python 3"
    },
    "language_info": {
      "name": "python"
    }
  },
  "cells": [
    {
      "cell_type": "code",
      "execution_count": null,
      "metadata": {
        "id": "wLmLwszXGVvr"
      },
      "outputs": [],
      "source": [
        "\"Wee\\b are \\npython developer.\""
      ]
    },
    {
      "cell_type": "code",
      "source": [
        "print(\"Wee\\b are \\npython developer.\")"
      ],
      "metadata": {
        "colab": {
          "base_uri": "https://localhost:8080/"
        },
        "id": "T_W6HKQkGqnV",
        "outputId": "1e61bf81-352d-4f29-f68b-9dd9c0fb7853"
      },
      "execution_count": 1,
      "outputs": [
        {
          "output_type": "stream",
          "name": "stdout",
          "text": [
            "Wee\b are \n",
            "python developer.\n"
          ]
        }
      ]
    },
    {
      "cell_type": "code",
      "source": [
        "print(\"Wee \\b\\bare \\npython \\t\\tdeveloper.\")"
      ],
      "metadata": {
        "colab": {
          "base_uri": "https://localhost:8080/"
        },
        "id": "G3Le-4OdGqpY",
        "outputId": "a385b36a-f56a-439d-8862-8b33998d0b99"
      },
      "execution_count": 3,
      "outputs": [
        {
          "output_type": "stream",
          "name": "stdout",
          "text": [
            "Wee \b\bare \n",
            "python \t\tdeveloper.\n"
          ]
        }
      ]
    },
    {
      "cell_type": "code",
      "source": [
        "print('I'm python developer')"
      ],
      "metadata": {
        "colab": {
          "base_uri": "https://localhost:8080/",
          "height": 141
        },
        "id": "CgG131_3Gqr1",
        "outputId": "9e05658a-6f87-467d-f735-95870e8c1024"
      },
      "execution_count": 4,
      "outputs": [
        {
          "output_type": "error",
          "ename": "SyntaxError",
          "evalue": "ignored",
          "traceback": [
            "\u001b[0;36m  File \u001b[0;32m\"<ipython-input-4-c8a0a202e382>\"\u001b[0;36m, line \u001b[0;32m1\u001b[0m\n\u001b[0;31m    print('I'm python developer')\u001b[0m\n\u001b[0m                               ^\u001b[0m\n\u001b[0;31mSyntaxError\u001b[0m\u001b[0;31m:\u001b[0m unterminated string literal (detected at line 1)\n"
          ]
        }
      ]
    },
    {
      "cell_type": "code",
      "source": [
        "print('I\\'m python developer')"
      ],
      "metadata": {
        "colab": {
          "base_uri": "https://localhost:8080/"
        },
        "id": "ZpyigYy2Gqtl",
        "outputId": "bf93feb4-58d3-4fd7-8b03-d239f1e794e2"
      },
      "execution_count": 5,
      "outputs": [
        {
          "output_type": "stream",
          "name": "stdout",
          "text": [
            "I'm python developer\n"
          ]
        }
      ]
    },
    {
      "cell_type": "code",
      "source": [
        "print('C:\\\\north pole\\noise_penguins.txt')\n",
        "print('----------')\n",
        "print('first', 'second', 'third', sep='\\t')"
      ],
      "metadata": {
        "colab": {
          "base_uri": "https://localhost:8080/"
        },
        "id": "HvEPcIkAGqvX",
        "outputId": "e7a4a901-0689-47fb-ed8b-218b67b4ca0f"
      },
      "execution_count": 6,
      "outputs": [
        {
          "output_type": "stream",
          "name": "stdout",
          "text": [
            "C:\\north pole\n",
            "oise_penguins.txt\n",
            "----------\n",
            "first\tsecond\tthird\n"
          ]
        }
      ]
    },
    {
      "cell_type": "code",
      "source": [
        "print('C:\\\\north pole\\\\noise_penguins.txt')"
      ],
      "metadata": {
        "colab": {
          "base_uri": "https://localhost:8080/"
        },
        "id": "5di94WP4KtoU",
        "outputId": "58657516-46fa-428c-9b39-e82451d9edad"
      },
      "execution_count": 7,
      "outputs": [
        {
          "output_type": "stream",
          "name": "stdout",
          "text": [
            "C:\\north pole\\noise_penguins.txt\n"
          ]
        }
      ]
    },
    {
      "cell_type": "code",
      "source": [
        "print('we are', '\\boosting', 'our', '\\brotherhood')\n",
        "print('it\\'s essential to learn Python\\'s libraries in IT World')\n"
      ],
      "metadata": {
        "colab": {
          "base_uri": "https://localhost:8080/"
        },
        "id": "PWLwt2ETKtq6",
        "outputId": "6d7f9a5c-ab97-4f27-c44c-8bfce506ede9"
      },
      "execution_count": 8,
      "outputs": [
        {
          "output_type": "stream",
          "name": "stdout",
          "text": [
            "we are \boosting our \brotherhood\n",
            "it's essential to learn Python's libraries in IT World\n"
          ]
        }
      ]
    },
    {
      "cell_type": "markdown",
      "source": [
        "* and her zaman **False** arar.==>>>Ilk gordugu **False** degerini return eder.EGer tum degerler **True** ise o zamanda son gordugu **True** degerini return eder. **bold text**\n",
        "* or her zmaan **True** arar.==>> Ilk gordugu **True** degerini return eder. Eger tum degerler **False** ise son gordugu **False** degerini return eder.\n"
      ],
      "metadata": {
        "id": "Lcy3BAxRQnSE"
      }
    },
    {
      "cell_type": "code",
      "source": [
        "True and True and False and False"
      ],
      "metadata": {
        "colab": {
          "base_uri": "https://localhost:8080/"
        },
        "id": "3HSodWcrKtvk",
        "outputId": "aab5509a-6dd1-4462-8a3f-f79b8b08e1b0"
      },
      "execution_count": 9,
      "outputs": [
        {
          "output_type": "execute_result",
          "data": {
            "text/plain": [
              "False"
            ]
          },
          "metadata": {},
          "execution_count": 9
        }
      ]
    },
    {
      "cell_type": "code",
      "source": [
        "True and True and True"
      ],
      "metadata": {
        "colab": {
          "base_uri": "https://localhost:8080/"
        },
        "id": "1wBs_iyiQxOp",
        "outputId": "a0afc447-c286-426a-9fdc-553ca23a5636"
      },
      "execution_count": 10,
      "outputs": [
        {
          "output_type": "execute_result",
          "data": {
            "text/plain": [
              "True"
            ]
          },
          "metadata": {},
          "execution_count": 10
        }
      ]
    },
    {
      "cell_type": "code",
      "source": [
        "True or False"
      ],
      "metadata": {
        "colab": {
          "base_uri": "https://localhost:8080/"
        },
        "id": "Udss8QO7QxS8",
        "outputId": "efa400c9-e822-4903-8e45-8ca28b5a5194"
      },
      "execution_count": 11,
      "outputs": [
        {
          "output_type": "execute_result",
          "data": {
            "text/plain": [
              "True"
            ]
          },
          "metadata": {},
          "execution_count": 11
        }
      ]
    },
    {
      "cell_type": "code",
      "source": [
        "False or False or False"
      ],
      "metadata": {
        "colab": {
          "base_uri": "https://localhost:8080/"
        },
        "id": "xpHc59PfQxVK",
        "outputId": "7cdc9632-b87d-47d7-8686-aa22256be9f1"
      },
      "execution_count": 12,
      "outputs": [
        {
          "output_type": "execute_result",
          "data": {
            "text/plain": [
              "False"
            ]
          },
          "metadata": {},
          "execution_count": 12
        }
      ]
    },
    {
      "cell_type": "markdown",
      "source": [
        "\n",
        "\n",
        "1.   Not\n",
        "2.   And\n",
        "3.   or\n",
        "\n"
      ],
      "metadata": {
        "id": "u8gawQyKTQTV"
      }
    },
    {
      "cell_type": "code",
      "source": [
        "True and True or False and True"
      ],
      "metadata": {
        "colab": {
          "base_uri": "https://localhost:8080/"
        },
        "id": "p95R3rRIKtxp",
        "outputId": "eb7d46bc-5840-45f4-9c1d-19aef7cace7c"
      },
      "execution_count": 13,
      "outputs": [
        {
          "output_type": "execute_result",
          "data": {
            "text/plain": [
              "True"
            ]
          },
          "metadata": {},
          "execution_count": 13
        }
      ]
    },
    {
      "cell_type": "code",
      "source": [
        "True and not True or False and True\n"
      ],
      "metadata": {
        "colab": {
          "base_uri": "https://localhost:8080/"
        },
        "id": "YIumPik8STKU",
        "outputId": "cfe362d7-bb7a-446d-c918-ad67853b75a9"
      },
      "execution_count": 14,
      "outputs": [
        {
          "output_type": "execute_result",
          "data": {
            "text/plain": [
              "False"
            ]
          },
          "metadata": {},
          "execution_count": 14
        }
      ]
    },
    {
      "cell_type": "code",
      "source": [
        "True and True or False and True and not True"
      ],
      "metadata": {
        "colab": {
          "base_uri": "https://localhost:8080/"
        },
        "id": "rC94gDi4STMq",
        "outputId": "16863ddc-1e98-4f60-812d-02c6960a007b"
      },
      "execution_count": 15,
      "outputs": [
        {
          "output_type": "execute_result",
          "data": {
            "text/plain": [
              "True"
            ]
          },
          "metadata": {},
          "execution_count": 15
        }
      ]
    },
    {
      "cell_type": "code",
      "source": [
        "bool(None)"
      ],
      "metadata": {
        "colab": {
          "base_uri": "https://localhost:8080/"
        },
        "id": "EIoyoVPQaogo",
        "outputId": "aff4c019-808f-4d48-a144-224500c994bc"
      },
      "execution_count": 31,
      "outputs": [
        {
          "output_type": "execute_result",
          "data": {
            "text/plain": [
              "False"
            ]
          },
          "metadata": {},
          "execution_count": 31
        }
      ]
    },
    {
      "cell_type": "code",
      "source": [
        "bool(1)"
      ],
      "metadata": {
        "colab": {
          "base_uri": "https://localhost:8080/"
        },
        "id": "jvyu3bKJUIqZ",
        "outputId": "285bc923-b9bb-4cba-a3b3-0ab379343009"
      },
      "execution_count": 16,
      "outputs": [
        {
          "output_type": "execute_result",
          "data": {
            "text/plain": [
              "True"
            ]
          },
          "metadata": {},
          "execution_count": 16
        }
      ]
    },
    {
      "cell_type": "code",
      "source": [
        "bool('Hello')"
      ],
      "metadata": {
        "colab": {
          "base_uri": "https://localhost:8080/"
        },
        "id": "T-fxkDSpUItG",
        "outputId": "6188ad12-d7a8-4671-99df-e79b343f467d"
      },
      "execution_count": 17,
      "outputs": [
        {
          "output_type": "execute_result",
          "data": {
            "text/plain": [
              "True"
            ]
          },
          "metadata": {},
          "execution_count": 17
        }
      ]
    },
    {
      "cell_type": "code",
      "source": [
        "bool(12)"
      ],
      "metadata": {
        "colab": {
          "base_uri": "https://localhost:8080/"
        },
        "id": "t0pSP-A7UIve",
        "outputId": "70dc86a2-83ad-48fd-ef3c-ab358fc02249"
      },
      "execution_count": 18,
      "outputs": [
        {
          "output_type": "execute_result",
          "data": {
            "text/plain": [
              "True"
            ]
          },
          "metadata": {},
          "execution_count": 18
        }
      ]
    },
    {
      "cell_type": "code",
      "source": [
        "bool(0)"
      ],
      "metadata": {
        "colab": {
          "base_uri": "https://localhost:8080/"
        },
        "id": "FVQKlnPZUIx6",
        "outputId": "41e419b9-8bd0-44a8-97bf-310b8a078f27"
      },
      "execution_count": 19,
      "outputs": [
        {
          "output_type": "execute_result",
          "data": {
            "text/plain": [
              "False"
            ]
          },
          "metadata": {},
          "execution_count": 19
        }
      ]
    },
    {
      "cell_type": "code",
      "source": [
        "bool(0.0)"
      ],
      "metadata": {
        "colab": {
          "base_uri": "https://localhost:8080/"
        },
        "id": "0l_XcyDeUI0B",
        "outputId": "c75c156d-8770-4597-81a6-d0908ac4d549"
      },
      "execution_count": 20,
      "outputs": [
        {
          "output_type": "execute_result",
          "data": {
            "text/plain": [
              "False"
            ]
          },
          "metadata": {},
          "execution_count": 20
        }
      ]
    },
    {
      "cell_type": "code",
      "source": [
        "bool([])"
      ],
      "metadata": {
        "colab": {
          "base_uri": "https://localhost:8080/"
        },
        "id": "tIouHw44STOl",
        "outputId": "03f79af2-5786-4895-e828-d05c29791c89"
      },
      "execution_count": 21,
      "outputs": [
        {
          "output_type": "execute_result",
          "data": {
            "text/plain": [
              "False"
            ]
          },
          "metadata": {},
          "execution_count": 21
        }
      ]
    },
    {
      "cell_type": "code",
      "source": [
        "bool(())"
      ],
      "metadata": {
        "colab": {
          "base_uri": "https://localhost:8080/"
        },
        "id": "nNvIXN6IV6wE",
        "outputId": "cf9eaf2c-6fb4-4463-f4da-53174cde84b9"
      },
      "execution_count": 22,
      "outputs": [
        {
          "output_type": "execute_result",
          "data": {
            "text/plain": [
              "False"
            ]
          },
          "metadata": {},
          "execution_count": 22
        }
      ]
    },
    {
      "cell_type": "code",
      "source": [
        "bool([0])"
      ],
      "metadata": {
        "colab": {
          "base_uri": "https://localhost:8080/"
        },
        "id": "6_SEES9hV6ys",
        "outputId": "a0e7ccbf-8eca-4d28-ee68-b168f2e52a26"
      },
      "execution_count": 23,
      "outputs": [
        {
          "output_type": "execute_result",
          "data": {
            "text/plain": [
              "True"
            ]
          },
          "metadata": {},
          "execution_count": 23
        }
      ]
    },
    {
      "cell_type": "code",
      "source": [
        "bool({})"
      ],
      "metadata": {
        "colab": {
          "base_uri": "https://localhost:8080/"
        },
        "id": "X299UwfkV609",
        "outputId": "217a3d23-e3e3-4c95-fec2-dd23ab7710b6"
      },
      "execution_count": 25,
      "outputs": [
        {
          "output_type": "execute_result",
          "data": {
            "text/plain": [
              "False"
            ]
          },
          "metadata": {},
          "execution_count": 25
        }
      ]
    },
    {
      "cell_type": "code",
      "source": [
        "bool(-5)"
      ],
      "metadata": {
        "colab": {
          "base_uri": "https://localhost:8080/"
        },
        "id": "DE73FS02V63W",
        "outputId": "626f4e7d-fd67-4f8a-af41-b05134483db7"
      },
      "execution_count": 26,
      "outputs": [
        {
          "output_type": "execute_result",
          "data": {
            "text/plain": [
              "True"
            ]
          },
          "metadata": {},
          "execution_count": 26
        }
      ]
    },
    {
      "cell_type": "code",
      "source": [
        "ali = 25\n",
        "veli = 30\n",
        "zeynep = 28"
      ],
      "metadata": {
        "id": "PLvMZHQlV65d"
      },
      "execution_count": 27,
      "outputs": []
    },
    {
      "cell_type": "code",
      "source": [
        "ali and veli and zeynep"
      ],
      "metadata": {
        "colab": {
          "base_uri": "https://localhost:8080/"
        },
        "id": "GPLhRP9wV67E",
        "outputId": "e507c81d-5a38-4055-df55-85cb0cb969a9"
      },
      "execution_count": 32,
      "outputs": [
        {
          "output_type": "execute_result",
          "data": {
            "text/plain": [
              "28"
            ]
          },
          "metadata": {},
          "execution_count": 32
        }
      ]
    },
    {
      "cell_type": "code",
      "source": [
        "bool(zeynep)"
      ],
      "metadata": {
        "colab": {
          "base_uri": "https://localhost:8080/"
        },
        "id": "neIKtJtUaWSt",
        "outputId": "de2d02e4-aa0d-4e95-b623-aeaa7284dd8f"
      },
      "execution_count": 30,
      "outputs": [
        {
          "output_type": "execute_result",
          "data": {
            "text/plain": [
              "True"
            ]
          },
          "metadata": {},
          "execution_count": 30
        }
      ]
    },
    {
      "cell_type": "code",
      "source": [
        "True and 1 and 0 and 'ali'"
      ],
      "metadata": {
        "colab": {
          "base_uri": "https://localhost:8080/"
        },
        "id": "_g6neSjJaWVB",
        "outputId": "74db60a3-97b5-4513-c5cb-42a6f55207be"
      },
      "execution_count": 33,
      "outputs": [
        {
          "output_type": "execute_result",
          "data": {
            "text/plain": [
              "0"
            ]
          },
          "metadata": {},
          "execution_count": 33
        }
      ]
    },
    {
      "cell_type": "code",
      "source": [
        "0 or True"
      ],
      "metadata": {
        "colab": {
          "base_uri": "https://localhost:8080/"
        },
        "id": "uD6Kb1R8aWXm",
        "outputId": "230fccd9-32ba-43e0-d800-49a04728d490"
      },
      "execution_count": 34,
      "outputs": [
        {
          "output_type": "execute_result",
          "data": {
            "text/plain": [
              "True"
            ]
          },
          "metadata": {},
          "execution_count": 34
        }
      ]
    },
    {
      "cell_type": "markdown",
      "source": [
        "<img src=\"https://docs.google.com/uc?id=13AS6ODcLqyASHwgDhX8JidRguGeIoun2\" class=\"img-fluid\" alt=\"dolma\" width=\"400\" height=\"250\">\n"
      ],
      "metadata": {
        "id": "i6VgwbeUbgWf"
      }
    },
    {
      "cell_type": "markdown",
      "source": [
        "- Kadayıf (Zorunlu)\n",
        "\n",
        "- iç: (Zorunlu)\n",
        "  - ceviz (istege bagli)\n",
        "  - fındık (istege bagli)\n",
        "  - fıstık (istege bagli)\n",
        "\n",
        "- şerbet (Zorunlu)\n",
        "  - su\n",
        "  - şeker\n",
        "\n",
        "- yumurta (Zorunlu)"
      ],
      "metadata": {
        "id": "bNqbPSbSbwF4"
      }
    },
    {
      "cell_type": "code",
      "source": [
        "# Ana malzeme\n",
        "kadayif = True\n",
        "# ic malzemesi en az biri zorunlu\n",
        "ceviz = True\n",
        "findik = False\n",
        "fistik = False\n",
        "# serbet (zorunlu)\n",
        "su = True\n",
        "seker = True\n",
        "# yumurta\n",
        "yumurta = True\n",
        "\n",
        "kadayif_dolmasi = kadayif and (ceviz or findik or fistik) and (su and seker) and yumurta\n",
        "kadayif_dolmasi"
      ],
      "metadata": {
        "colab": {
          "base_uri": "https://localhost:8080/"
        },
        "id": "DEhUcDuPaWZ6",
        "outputId": "2c88df6e-4570-4aa9-b1da-96027dd0480e"
      },
      "execution_count": 35,
      "outputs": [
        {
          "output_type": "execute_result",
          "data": {
            "text/plain": [
              "True"
            ]
          },
          "metadata": {},
          "execution_count": 35
        }
      ]
    },
    {
      "cell_type": "code",
      "source": [
        "# Ana malzeme\n",
        "kadayif = True\n",
        "# ic malzemesi en az biri zorunlu\n",
        "ceviz = True\n",
        "findik = False\n",
        "fistik = False\n",
        "# serbet (zorunlu)\n",
        "su = True\n",
        "seker = True\n",
        "# yumurta\n",
        "yumurta = False\n",
        "\n",
        "kadayif_dolmasi = kadayif and (ceviz or findik or fistik) and (su and seker) and yumurta\n",
        "kadayif_dolmasi"
      ],
      "metadata": {
        "colab": {
          "base_uri": "https://localhost:8080/"
        },
        "id": "RAuwLDdJbYYq",
        "outputId": "28110eac-5d7d-459d-c92a-516c5ddb9e4a"
      },
      "execution_count": 36,
      "outputs": [
        {
          "output_type": "execute_result",
          "data": {
            "text/plain": [
              "False"
            ]
          },
          "metadata": {},
          "execution_count": 36
        }
      ]
    },
    {
      "cell_type": "code",
      "source": [
        "# Ana malzeme\n",
        "kadayif = True\n",
        "# ic malzemesi en az biri zorunlu\n",
        "ceviz = False\n",
        "findik = False\n",
        "fistik = True\n",
        "# serbet (zorunlu)\n",
        "su = True\n",
        "seker = True\n",
        "# yumurta\n",
        "yumurta = True\n",
        "kadayif_dolmasi = kadayif and (ceviz or findik or fistik) and (su and seker) and yumurta and \"Afiyet Olsun\"\n",
        "\n",
        "kadayif_dolmasi\n",
        "# eger kadayif_dolmasi True ise ekranda cikti olarak \"Afiyet Olsun\" yazsin."
      ],
      "metadata": {
        "colab": {
          "base_uri": "https://localhost:8080/",
          "height": 35
        },
        "id": "pY_LFETfbYbG",
        "outputId": "18237f96-a6e3-443d-a151-4b395330df07"
      },
      "execution_count": 49,
      "outputs": [
        {
          "output_type": "execute_result",
          "data": {
            "text/plain": [
              "'Afiyet Olsun'"
            ],
            "application/vnd.google.colaboratory.intrinsic+json": {
              "type": "string"
            }
          },
          "metadata": {},
          "execution_count": 49
        }
      ]
    },
    {
      "cell_type": "code",
      "source": [
        "text = \"tomato\"\n",
        "\n",
        "len(text)  # iterable nesnelerde kullanabiliriz."
      ],
      "metadata": {
        "colab": {
          "base_uri": "https://localhost:8080/"
        },
        "id": "5EuV_gygeM-j",
        "outputId": "2d5147f5-a4e4-4ad1-8300-9360efd5a74a"
      },
      "execution_count": 50,
      "outputs": [
        {
          "output_type": "execute_result",
          "data": {
            "text/plain": [
              "6"
            ]
          },
          "metadata": {},
          "execution_count": 50
        }
      ]
    },
    {
      "cell_type": "code",
      "source": [
        "text[1]"
      ],
      "metadata": {
        "colab": {
          "base_uri": "https://localhost:8080/",
          "height": 35
        },
        "id": "yB8S0PeZrCkA",
        "outputId": "346e6a0f-1936-4559-eb16-88bdf5f02027"
      },
      "execution_count": 51,
      "outputs": [
        {
          "output_type": "execute_result",
          "data": {
            "text/plain": [
              "'o'"
            ],
            "application/vnd.google.colaboratory.intrinsic+json": {
              "type": "string"
            }
          },
          "metadata": {},
          "execution_count": 51
        }
      ]
    },
    {
      "cell_type": "code",
      "source": [
        "sayi = 1200\n",
        "\n",
        "len(sayi)"
      ],
      "metadata": {
        "colab": {
          "base_uri": "https://localhost:8080/",
          "height": 211
        },
        "id": "iHAouaQJrCme",
        "outputId": "35a4bb15-7f19-48b4-9625-8ae828c81be6"
      },
      "execution_count": 52,
      "outputs": [
        {
          "output_type": "error",
          "ename": "TypeError",
          "evalue": "ignored",
          "traceback": [
            "\u001b[0;31m---------------------------------------------------------------------------\u001b[0m",
            "\u001b[0;31mTypeError\u001b[0m                                 Traceback (most recent call last)",
            "\u001b[0;32m<ipython-input-52-4aceb6015289>\u001b[0m in \u001b[0;36m<cell line: 3>\u001b[0;34m()\u001b[0m\n\u001b[1;32m      1\u001b[0m \u001b[0msayi\u001b[0m \u001b[0;34m=\u001b[0m \u001b[0;36m1200\u001b[0m\u001b[0;34m\u001b[0m\u001b[0;34m\u001b[0m\u001b[0m\n\u001b[1;32m      2\u001b[0m \u001b[0;34m\u001b[0m\u001b[0m\n\u001b[0;32m----> 3\u001b[0;31m \u001b[0mlen\u001b[0m\u001b[0;34m(\u001b[0m\u001b[0msayi\u001b[0m\u001b[0;34m)\u001b[0m\u001b[0;34m\u001b[0m\u001b[0;34m\u001b[0m\u001b[0m\n\u001b[0m",
            "\u001b[0;31mTypeError\u001b[0m: object of type 'int' has no len()"
          ]
        }
      ]
    },
    {
      "cell_type": "code",
      "source": [
        "len(text)"
      ],
      "metadata": {
        "colab": {
          "base_uri": "https://localhost:8080/"
        },
        "id": "Hen7uFjErCpM",
        "outputId": "144b9eb1-a800-4515-8759-5d3f0590fa41"
      },
      "execution_count": 53,
      "outputs": [
        {
          "output_type": "execute_result",
          "data": {
            "text/plain": [
              "6"
            ]
          },
          "metadata": {},
          "execution_count": 53
        }
      ]
    },
    {
      "cell_type": "code",
      "source": [
        "text = \"clarusway\"\n",
        "\n",
        "text[6:2]"
      ],
      "metadata": {
        "colab": {
          "base_uri": "https://localhost:8080/",
          "height": 35
        },
        "id": "jkQqRhaPrCru",
        "outputId": "a852f948-1328-436b-ed61-ec46cc21839e"
      },
      "execution_count": 54,
      "outputs": [
        {
          "output_type": "execute_result",
          "data": {
            "text/plain": [
              "''"
            ],
            "application/vnd.google.colaboratory.intrinsic+json": {
              "type": "string"
            }
          },
          "metadata": {},
          "execution_count": 54
        }
      ]
    },
    {
      "cell_type": "code",
      "source": [
        "text[6:2:-1]"
      ],
      "metadata": {
        "colab": {
          "base_uri": "https://localhost:8080/",
          "height": 35
        },
        "id": "TWQXwvq3rCuX",
        "outputId": "fcb234ae-64dd-4436-a65a-089c3efda57e"
      },
      "execution_count": 55,
      "outputs": [
        {
          "output_type": "execute_result",
          "data": {
            "text/plain": [
              "'wsur'"
            ],
            "application/vnd.google.colaboratory.intrinsic+json": {
              "type": "string"
            }
          },
          "metadata": {},
          "execution_count": 55
        }
      ]
    },
    {
      "cell_type": "code",
      "source": [
        "\"clarus\" + \"way\""
      ],
      "metadata": {
        "colab": {
          "base_uri": "https://localhost:8080/",
          "height": 35
        },
        "id": "vy5T5tS-sMTo",
        "outputId": "fb4ebc73-0685-4856-9aa6-5c62ea83b933"
      },
      "execution_count": 56,
      "outputs": [
        {
          "output_type": "execute_result",
          "data": {
            "text/plain": [
              "'clarusway'"
            ],
            "application/vnd.google.colaboratory.intrinsic+json": {
              "type": "string"
            }
          },
          "metadata": {},
          "execution_count": 56
        }
      ]
    },
    {
      "cell_type": "code",
      "source": [
        "\"clarusway\" * 5"
      ],
      "metadata": {
        "colab": {
          "base_uri": "https://localhost:8080/",
          "height": 35
        },
        "id": "xw2hRBGFsMWU",
        "outputId": "018a10aa-01b6-4ea8-ec7b-ef31f8c93de5"
      },
      "execution_count": 57,
      "outputs": [
        {
          "output_type": "execute_result",
          "data": {
            "text/plain": [
              "'claruswayclaruswayclaruswayclaruswayclarusway'"
            ],
            "application/vnd.google.colaboratory.intrinsic+json": {
              "type": "string"
            }
          },
          "metadata": {},
          "execution_count": 57
        }
      ]
    },
    {
      "cell_type": "code",
      "source": [
        "str_1 = \"upper\"\n",
        "str_2 = \"case\"\n",
        "str_comb = str_1 + str_2\n",
        "print(str_1 * 5)\n",
        "print(str_2 * 2)\n",
        "print(str_comb)"
      ],
      "metadata": {
        "colab": {
          "base_uri": "https://localhost:8080/"
        },
        "id": "hnjf1xdUsMY0",
        "outputId": "c93ea00b-0b19-47e7-b185-dc7b7d8b3366"
      },
      "execution_count": 58,
      "outputs": [
        {
          "output_type": "stream",
          "name": "stdout",
          "text": [
            "upperupperupperupperupper\n",
            "casecase\n",
            "uppercase\n"
          ]
        }
      ]
    },
    {
      "cell_type": "code",
      "source": [
        "text = 'Clarusway'\n",
        "\n",
        "print(*text)  # unpacking"
      ],
      "metadata": {
        "colab": {
          "base_uri": "https://localhost:8080/"
        },
        "id": "0wtY51SWsMbN",
        "outputId": "b2f21b13-ba5e-4da7-ccf2-be457acde7bb"
      },
      "execution_count": 64,
      "outputs": [
        {
          "output_type": "stream",
          "name": "stdout",
          "text": [
            "C l a r u s w a y\n"
          ]
        }
      ]
    },
    {
      "cell_type": "code",
      "source": [
        "text = 'Clarusway'\n",
        "\n",
        "print(*text, sep = '-')"
      ],
      "metadata": {
        "colab": {
          "base_uri": "https://localhost:8080/"
        },
        "id": "HbTa3xNat3K5",
        "outputId": "99002bb0-bbe5-4a98-cb1f-8613d614bd21"
      },
      "execution_count": 63,
      "outputs": [
        {
          "output_type": "stream",
          "name": "stdout",
          "text": [
            "C-l-a-r-u-s-w-a-y\n"
          ]
        }
      ]
    },
    {
      "cell_type": "code",
      "source": [
        "print(text)"
      ],
      "metadata": {
        "colab": {
          "base_uri": "https://localhost:8080/"
        },
        "id": "qeqQiBaesMdo",
        "outputId": "7b26bf02-8400-42f0-a64e-90dfeb00e347"
      },
      "execution_count": 60,
      "outputs": [
        {
          "output_type": "stream",
          "name": "stdout",
          "text": [
            "Clarusway\n"
          ]
        }
      ]
    },
    {
      "cell_type": "code",
      "source": [
        "print('c','l','a','r','u','s', 'w', 'a', 'y')"
      ],
      "metadata": {
        "colab": {
          "base_uri": "https://localhost:8080/"
        },
        "id": "r-UBLOGMsMgI",
        "outputId": "2a37923e-8640-47e8-f3ad-07457cad73bd"
      },
      "execution_count": 61,
      "outputs": [
        {
          "output_type": "stream",
          "name": "stdout",
          "text": [
            "c l a r u s w a y\n"
          ]
        }
      ]
    },
    {
      "cell_type": "code",
      "source": [
        "str_1"
      ],
      "metadata": {
        "colab": {
          "base_uri": "https://localhost:8080/",
          "height": 35
        },
        "id": "715xuU87tr6t",
        "outputId": "072bf51c-96e1-4949-aef0-a962e1e04d4a"
      },
      "execution_count": 65,
      "outputs": [
        {
          "output_type": "execute_result",
          "data": {
            "text/plain": [
              "'upper'"
            ],
            "application/vnd.google.colaboratory.intrinsic+json": {
              "type": "string"
            }
          },
          "metadata": {},
          "execution_count": 65
        }
      ]
    },
    {
      "cell_type": "code",
      "source": [
        "str_2"
      ],
      "metadata": {
        "colab": {
          "base_uri": "https://localhost:8080/",
          "height": 35
        },
        "id": "odYAUHm0tr9S",
        "outputId": "0030cbe3-fd01-44c3-cd77-d3f9acc45295"
      },
      "execution_count": 66,
      "outputs": [
        {
          "output_type": "execute_result",
          "data": {
            "text/plain": [
              "'case'"
            ],
            "application/vnd.google.colaboratory.intrinsic+json": {
              "type": "string"
            }
          },
          "metadata": {},
          "execution_count": 66
        }
      ]
    },
    {
      "cell_type": "code",
      "source": [
        "str_1 += \"case\"  # str_1 = str_1 + \"case\"\n",
        "\n",
        "str_1"
      ],
      "metadata": {
        "colab": {
          "base_uri": "https://localhost:8080/",
          "height": 35
        },
        "id": "oWHYY2Khtr_t",
        "outputId": "6816af7d-4d67-4d3c-d25e-c25d52ded362"
      },
      "execution_count": 67,
      "outputs": [
        {
          "output_type": "execute_result",
          "data": {
            "text/plain": [
              "'uppercase'"
            ],
            "application/vnd.google.colaboratory.intrinsic+json": {
              "type": "string"
            }
          },
          "metadata": {},
          "execution_count": 67
        }
      ]
    },
    {
      "cell_type": "code",
      "source": [
        "str_1 *= 2  # str_1 = str_1 * 2\n",
        "str_1"
      ],
      "metadata": {
        "colab": {
          "base_uri": "https://localhost:8080/",
          "height": 35
        },
        "id": "m4b-JnfAtsB4",
        "outputId": "d79f428f-b945-4916-fab6-6c94df410295"
      },
      "execution_count": 68,
      "outputs": [
        {
          "output_type": "execute_result",
          "data": {
            "text/plain": [
              "'uppercaseuppercase'"
            ],
            "application/vnd.google.colaboratory.intrinsic+json": {
              "type": "string"
            }
          },
          "metadata": {},
          "execution_count": 68
        }
      ]
    },
    {
      "cell_type": "code",
      "source": [
        "name = input(\"Lutfen isminizi giriniz: \")\n",
        "\n",
        "print(\"Merhaba {}\".format(name))"
      ],
      "metadata": {
        "colab": {
          "base_uri": "https://localhost:8080/"
        },
        "id": "2WIqIQ-XvK_B",
        "outputId": "bfdc0d88-57f4-4919-e1f9-e63985393996"
      },
      "execution_count": 73,
      "outputs": [
        {
          "output_type": "stream",
          "name": "stdout",
          "text": [
            "Lutfen isminizi giriniz: Joseph\n",
            "Merhaba Joseph\n"
          ]
        }
      ]
    },
    {
      "cell_type": "code",
      "source": [
        "\"Ben sabah {} da uyandim. {}'e gittim. Gelirken de {} kg elma aldim.\".format('09:00', 'Market', 3)"
      ],
      "metadata": {
        "colab": {
          "base_uri": "https://localhost:8080/",
          "height": 35
        },
        "id": "AQmqR9V4vjlA",
        "outputId": "fcf24664-ce0f-4832-d1c7-0a72ed6cfd76"
      },
      "execution_count": 75,
      "outputs": [
        {
          "output_type": "execute_result",
          "data": {
            "text/plain": [
              "\"Ben sabah 09:00 da uyandim. Market'e gittim. Gelirken de 3 kg elma aldim.\""
            ],
            "application/vnd.google.colaboratory.intrinsic+json": {
              "type": "string"
            }
          },
          "metadata": {},
          "execution_count": 75
        }
      ]
    },
    {
      "cell_type": "code",
      "source": [
        "\"Ben sabah {2} da uyandim. {0}'e gittim. Gelirken de {1} kg elma aldim.\".format('Market', 3, '09:00')"
      ],
      "metadata": {
        "colab": {
          "base_uri": "https://localhost:8080/",
          "height": 35
        },
        "id": "jMUnmbblvjn9",
        "outputId": "83cb71f2-70f1-4562-93d9-88c87720b7ed"
      },
      "execution_count": 77,
      "outputs": [
        {
          "output_type": "execute_result",
          "data": {
            "text/plain": [
              "\"Ben sabah 09:00 da uyandim. Market'e gittim. Gelirken de 3 kg elma aldim.\""
            ],
            "application/vnd.google.colaboratory.intrinsic+json": {
              "type": "string"
            }
          },
          "metadata": {},
          "execution_count": 77
        }
      ]
    },
    {
      "cell_type": "code",
      "source": [
        "print(\"Ben sabah {2} da uyandim. {0}'e gittim. Gelirken de {1} kg elma aldim.\".format('Market', 3, '09:00'))  # positional argument"
      ],
      "metadata": {
        "colab": {
          "base_uri": "https://localhost:8080/"
        },
        "id": "eXV_zb7nvjpw",
        "outputId": "b7751a38-2767-4688-eb27-93b245b5567c"
      },
      "execution_count": 78,
      "outputs": [
        {
          "output_type": "stream",
          "name": "stdout",
          "text": [
            "Ben sabah 09:00 da uyandim. Market'e gittim. Gelirken de 3 kg elma aldim.\n"
          ]
        }
      ]
    },
    {
      "cell_type": "code",
      "source": [
        "isim = input('Lutfen isminizi giriniz: ')\n",
        "yas = input('Lutfen yasinizi giriniz: ')\n",
        "\n",
        "print(\"Merhaba {}! Yasiniz: {}\".format(isim, yas))\n"
      ],
      "metadata": {
        "colab": {
          "base_uri": "https://localhost:8080/"
        },
        "id": "kdlSUMJSvLBQ",
        "outputId": "4b68876e-f2d0-454b-eb6e-f2bbbacddb28"
      },
      "execution_count": 79,
      "outputs": [
        {
          "output_type": "stream",
          "name": "stdout",
          "text": [
            "Lutfen isminizi giriniz: Zeynep\n",
            "Lutfen yasinizi giriniz: 28\n",
            "Merhaba Zeynep! Yasiniz: 28\n"
          ]
        }
      ]
    },
    {
      "cell_type": "code",
      "source": [
        "'Carsidan {meyve} aldim ve {yer} geldim.'.format(meyve = 'elma', yer = 'eve')  # keyword argument"
      ],
      "metadata": {
        "colab": {
          "base_uri": "https://localhost:8080/",
          "height": 35
        },
        "id": "RPjDln_JvLDZ",
        "outputId": "53621354-9bbf-4467-e63c-6406a8293ed9"
      },
      "execution_count": 80,
      "outputs": [
        {
          "output_type": "execute_result",
          "data": {
            "text/plain": [
              "'Carsidan elma aldim ve eve geldim.'"
            ],
            "application/vnd.google.colaboratory.intrinsic+json": {
              "type": "string"
            }
          },
          "metadata": {},
          "execution_count": 80
        }
      ]
    },
    {
      "cell_type": "code",
      "source": [
        "'Carsidan {meyve} aldim ve {yer} geldim.'.format(yer = 'eve', meyve = 'elma')"
      ],
      "metadata": {
        "colab": {
          "base_uri": "https://localhost:8080/",
          "height": 35
        },
        "id": "w0hOFJX_yqxG",
        "outputId": "ac2852e9-0a17-4d1c-e020-87cdd1070078"
      },
      "execution_count": 81,
      "outputs": [
        {
          "output_type": "execute_result",
          "data": {
            "text/plain": [
              "'Carsidan elma aldim ve eve geldim.'"
            ],
            "application/vnd.google.colaboratory.intrinsic+json": {
              "type": "string"
            }
          },
          "metadata": {},
          "execution_count": 81
        }
      ]
    },
    {
      "cell_type": "code",
      "source": [],
      "metadata": {
        "id": "mV3sJgOTyqzl"
      },
      "execution_count": null,
      "outputs": []
    },
    {
      "cell_type": "code",
      "source": [],
      "metadata": {
        "id": "QIw3336hyq3k"
      },
      "execution_count": null,
      "outputs": []
    },
    {
      "cell_type": "code",
      "source": [],
      "metadata": {
        "id": "ltqxKvynyq5z"
      },
      "execution_count": null,
      "outputs": []
    }
  ]
}